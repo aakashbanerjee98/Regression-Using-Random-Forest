{
  "nbformat": 4,
  "nbformat_minor": 0,
  "metadata": {
    "colab": {
      "name": "Indian Housing Prices.ipynb",
      "provenance": []
    },
    "kernelspec": {
      "name": "python3",
      "display_name": "Python 3"
    }
  },
  "cells": [
    {
      "cell_type": "markdown",
      "metadata": {
        "id": "3bRxRWNFcs9E"
      },
      "source": [
        "# **Importing dataset and molding it according to the problem statement**"
      ]
    },
    {
      "cell_type": "code",
      "metadata": {
        "id": "YqRm3yj_bHtq"
      },
      "source": [
        "import numpy as np\n",
        "import matplotlib.pyplot as plt\n",
        "import pandas as pd\n",
        "\n",
        "dataset = pd.read_csv('train.csv')\n",
        "\n",
        "dataset.drop(['BHK_NO.','BHK_OR_RK','ADDRESS'],axis=1,inplace=True)\n",
        "\n",
        "X = dataset.iloc[:, 2:-1].values\n",
        "y = dataset.iloc[:, -1].values"
      ],
      "execution_count": 7,
      "outputs": []
    },
    {
      "cell_type": "markdown",
      "metadata": {
        "id": "nuGcgV56bony"
      },
      "source": [
        "# **Splitting into Training and testing set**"
      ]
    },
    {
      "cell_type": "code",
      "metadata": {
        "id": "g8Ztkt-_bH1_"
      },
      "source": [
        "from sklearn.model_selection import train_test_split\n",
        "X_train, X_test, y_train, y_test = train_test_split(X, y, test_size = 0.2, random_state = 0)"
      ],
      "execution_count": 8,
      "outputs": []
    },
    {
      "cell_type": "markdown",
      "metadata": {
        "id": "v_-AIeGXb9hZ"
      },
      "source": [
        "# **Importing and Training the Model**"
      ]
    },
    {
      "cell_type": "code",
      "metadata": {
        "colab": {
          "base_uri": "https://localhost:8080/"
        },
        "id": "BrovW-ZcbH7g",
        "outputId": "bab21b89-9a19-4e65-a61c-45ffa7ff1ad7"
      },
      "source": [
        "from sklearn.ensemble import RandomForestRegressor\n",
        "regressor = RandomForestRegressor(n_estimators = 100, random_state = 0)\n",
        "regressor.fit(X_train, y_train)"
      ],
      "execution_count": 9,
      "outputs": [
        {
          "output_type": "execute_result",
          "data": {
            "text/plain": [
              "RandomForestRegressor(bootstrap=True, ccp_alpha=0.0, criterion='mse',\n",
              "                      max_depth=None, max_features='auto', max_leaf_nodes=None,\n",
              "                      max_samples=None, min_impurity_decrease=0.0,\n",
              "                      min_impurity_split=None, min_samples_leaf=1,\n",
              "                      min_samples_split=2, min_weight_fraction_leaf=0.0,\n",
              "                      n_estimators=100, n_jobs=None, oob_score=False,\n",
              "                      random_state=0, verbose=0, warm_start=False)"
            ]
          },
          "metadata": {
            "tags": []
          },
          "execution_count": 9
        }
      ]
    },
    {
      "cell_type": "markdown",
      "metadata": {
        "id": "KAez1TOHcMwu"
      },
      "source": [
        "# **Prediction of test set**"
      ]
    },
    {
      "cell_type": "code",
      "metadata": {
        "id": "kZJx7YKLbH-w"
      },
      "source": [
        "y_pred = regressor.predict(X_test)"
      ],
      "execution_count": 10,
      "outputs": []
    },
    {
      "cell_type": "markdown",
      "metadata": {
        "id": "AO9qrNF0cUge"
      },
      "source": [
        "# **Measurement of Errors in prediction**"
      ]
    },
    {
      "cell_type": "code",
      "metadata": {
        "colab": {
          "base_uri": "https://localhost:8080/"
        },
        "id": "KZcf7C-pbIBf",
        "outputId": "140338f8-2188-4093-f456-5165bb07696b"
      },
      "source": [
        "import sklearn.metrics as sm\n",
        "print(\"Mean absolute error =\", round(sm.mean_absolute_error(y_test, y_pred), 2)) \n",
        "print(\"Mean squared error =\", round(sm.mean_squared_error(y_test, y_pred), 2)) \n",
        "print(\"Median absolute error =\", round(sm.median_absolute_error(y_test, y_pred), 2)) \n",
        "print(\"Explain variance score =\", round(sm.explained_variance_score(y_test, y_pred), 2)) \n",
        "print(\"R2 score =\", round(sm.r2_score(y_test, y_pred), 2))"
      ],
      "execution_count": 11,
      "outputs": [
        {
          "output_type": "stream",
          "text": [
            "Mean absolute error = 31.69\n",
            "Mean squared error = 19582.78\n",
            "Median absolute error = 10.12\n",
            "Explain variance score = 0.96\n",
            "R2 score = 0.96\n"
          ],
          "name": "stdout"
        }
      ]
    },
    {
      "cell_type": "markdown",
      "metadata": {
        "id": "YILTRF36ceds"
      },
      "source": [
        "# **Using the model to predict futher dataset**"
      ]
    },
    {
      "cell_type": "code",
      "metadata": {
        "id": "PQsNJSdVZBO7"
      },
      "source": [
        "data = pd.read_csv('test.csv')\n",
        "data.drop(['BHK_NO.','BHK_OR_RK','ADDRESS'],axis=1,inplace=True)\n",
        "X_tester = data.iloc[:, 2:].values\n",
        "y_pred_tester = regressor.predict(X_tester)\n"
      ],
      "execution_count": 12,
      "outputs": []
    },
    {
      "cell_type": "code",
      "metadata": {
        "colab": {
          "base_uri": "https://localhost:8080/"
        },
        "id": "u64qLxPfaQkm",
        "outputId": "c233590a-933e-40c3-d404-19cb0af9cb6c"
      },
      "source": [
        "print(y_pred_tester)"
      ],
      "execution_count": 13,
      "outputs": [
        {
          "output_type": "stream",
          "text": [
            "[  27.853   77.894   68.77  ... 8136.9     86.461  743.5  ]\n"
          ],
          "name": "stdout"
        }
      ]
    }
  ]
}